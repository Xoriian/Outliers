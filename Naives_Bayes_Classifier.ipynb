{
  "nbformat": 4,
  "nbformat_minor": 0,
  "metadata": {
    "colab": {
      "provenance": [],
      "mount_file_id": "1c10iYAYEW95DvGKSU4fiC9UK_tvpVdes",
      "authorship_tag": "ABX9TyM07GJxSfKx9YObSnvQLqHW",
      "include_colab_link": true
    },
    "kernelspec": {
      "name": "python3",
      "display_name": "Python 3"
    },
    "language_info": {
      "name": "python"
    },
    "accelerator": "GPU",
    "gpuClass": "standard"
  },
  "cells": [
    {
      "cell_type": "markdown",
      "metadata": {
        "id": "view-in-github",
        "colab_type": "text"
      },
      "source": [
        "<a href=\"https://colab.research.google.com/github/Xoriian/Outliers/blob/main/Naives_Bayes_Classifier.ipynb\" target=\"_parent\"><img src=\"https://colab.research.google.com/assets/colab-badge.svg\" alt=\"Open In Colab\"/></a>"
      ]
    },
    {
      "cell_type": "markdown",
      "source": [
        "## Importation des librairies"
      ],
      "metadata": {
        "id": "BM8nSYnLu8XI"
      }
    },
    {
      "cell_type": "code",
      "source": [
        "import pandas as pd\n",
        "import numpy as np\n",
        "import matplotlib.pyplot as plt\n",
        "import sys\n",
        "from sklearn.feature_extraction.text import TfidfVectorizer\n",
        "from sklearn.feature_extraction.text import CountVectorizer\n",
        "from sklearn.model_selection import train_test_split\n",
        "from sklearn.naive_bayes import MultinomialNB\n",
        "from sklearn.metrics import accuracy_score\n",
        "from sklearn.metrics import classification_report\n",
        "from sklearn.metrics import f1_score\n",
        "from sklearn.metrics import confusion_matrix\n",
        "from sklearn.metrics import ConfusionMatrixDisplay\n",
        "from sklearn.metrics import plot_confusion_matrix\n",
        "from numpy import random"
      ],
      "metadata": {
        "id": "qCb8pnfSImUE"
      },
      "execution_count": 50,
      "outputs": []
    },
    {
      "cell_type": "code",
      "source": [
        "from google.colab import drive\n",
        "drive.mount('/content/drive')"
      ],
      "metadata": {
        "colab": {
          "base_uri": "https://localhost:8080/"
        },
        "id": "eDlR41FoSl3T",
        "outputId": "580d32ba-b8b9-49cf-a63b-3d2d99ea569a"
      },
      "execution_count": 51,
      "outputs": [
        {
          "output_type": "stream",
          "name": "stdout",
          "text": [
            "Drive already mounted at /content/drive; to attempt to forcibly remount, call drive.mount(\"/content/drive\", force_remount=True).\n"
          ]
        }
      ]
    },
    {
      "cell_type": "markdown",
      "source": [
        "## Importation des données"
      ],
      "metadata": {
        "id": "bfQfJu7GMHcR"
      }
    },
    {
      "cell_type": "markdown",
      "source": [
        "Variable pour l'utilisation du code dans Google Colab - Dans ce cas le jeu de données doit être dans le Drive !"
      ],
      "metadata": {
        "id": "m87DlEAyTeM2"
      }
    },
    {
      "cell_type": "code",
      "source": [
        "# Récupération du contenu des différents datasets\n",
        "# LES DONNÉES DOIVENT ÊTRE DANS UN FICHIER data DANS VOTRE DRIVE\n",
        "train_data = pd.read_csv('/content/drive/My Drive/data/train_data.csv')\n",
        "train_results = pd.read_csv('/content/drive/My Drive/data/train_results.csv')\n",
        "test_data = pd.read_csv('/content/drive/My Drive/data/test_data.csv')"
      ],
      "metadata": {
        "id": "NcUsOZ9qSrYQ"
      },
      "execution_count": 52,
      "outputs": []
    },
    {
      "cell_type": "markdown",
      "source": [
        "## Pré-processing des données"
      ],
      "metadata": {
        "id": "VontO5iIlUkn"
      }
    },
    {
      "cell_type": "code",
      "source": [
        "# Fusion des textes et des labels de train\n",
        "train_all = pd.merge(train_data, train_results, on=[\"id\"])"
      ],
      "metadata": {
        "id": "yVjx2Z9vXN9m"
      },
      "execution_count": 56,
      "outputs": []
    },
    {
      "cell_type": "code",
      "source": [
        "# Tout les textes des données d'entraînement et de test sont mis en lettres minuscules\n",
        "train_all['text'] = train_all['text'].str.lower()\n",
        "test_data['text'] = test_data['text'].str.lower()"
      ],
      "metadata": {
        "id": "UUFZ2KVCl-nb"
      },
      "execution_count": 57,
      "outputs": []
    },
    {
      "cell_type": "markdown",
      "source": [
        "## Séparation des données"
      ],
      "metadata": {
        "id": "3UytSCEhaDiB"
      }
    },
    {
      "cell_type": "code",
      "source": [
        "X_train, X_val, y_train, y_val = train_test_split(train_all.text, train_all.target, test_size=0.20, random_state=42)"
      ],
      "metadata": {
        "id": "bfbFob2SMDc1"
      },
      "execution_count": 58,
      "outputs": []
    },
    {
      "cell_type": "markdown",
      "source": [
        "## Natural Language Processing (NLP)"
      ],
      "metadata": {
        "id": "sNt69byXpXWo"
      }
    },
    {
      "cell_type": "code",
      "source": [
        "# Paramétrisation des stopwords. Sachant que l'on doit classifier \"l'humeur\" du\n",
        "# texte (positif, négatif, neutre), il ne faut pas inclure de mots désignant des\n",
        "# négations dans la liste des mots à ne pas considérer\n",
        "\n",
        "# Liste inspirée de celle de la librairie nltk\n",
        "stopwords = ['i', 'me', 'my', 'myself', 'we', 'our', 'ours', 'ourselves', 'you',\n",
        "             \"you're\", \"you've\", \"you'll\", \"you'd\", 'your', 'yours', 'yourself',\n",
        "             'yourselves', 'he', 'him', 'his', 'himself', 'she', \"she's\", 'her',\n",
        "             'hers', 'herself', 'it', \"it's\", 'its', 'itself', 'they', 'them', \n",
        "             'their', 'theirs', 'themselves', 'this', 'that', \"that'll\", 'these',\n",
        "             'those', 'am', 'is', 'are', 'was', 'were', 'be', 'been', 'being', \n",
        "             'have', 'has', 'had', 'having', 'do', 'does', 'did', 'doing', 'a',\n",
        "             'an', 'the', 'and', 'but', 'if', 'as', 'of', 'at', 'by', 'for', \n",
        "             'with', 'about', 'into', 'through', 'during', 'to', 'from', 'in', \n",
        "             'then', 'here', 'there', 'own', 'same', 'so', 'than', 'can', 'will',\n",
        "             'd', 'll', 'm', 'o', 're', 've', 'y']"
      ],
      "metadata": {
        "id": "PsLuUUhEpbFH"
      },
      "execution_count": 60,
      "outputs": []
    },
    {
      "cell_type": "code",
      "source": [
        "# Initialisation du comptage de mots\n",
        "count_vect = CountVectorizer()"
      ],
      "metadata": {
        "id": "0-bJyqKjdRl5"
      },
      "execution_count": 61,
      "outputs": []
    },
    {
      "cell_type": "code",
      "source": [
        "# Entraînement et transformation des données d'entraînement en vecteur numérique\n",
        "X_train_vect = count_vect.fit_transform(X_train)"
      ],
      "metadata": {
        "id": "YdXXe4wbz89G"
      },
      "execution_count": 62,
      "outputs": []
    },
    {
      "cell_type": "code",
      "source": [
        "# Transformation des données de validation en vecteur numérique de comptage de mots\n",
        "X_val_vect = count_vect.transform(X_val)"
      ],
      "metadata": {
        "id": "NTsA9EeN0rlN"
      },
      "execution_count": 64,
      "outputs": []
    },
    {
      "cell_type": "markdown",
      "source": [
        "## Entraînement du Multinomial Naive Bayes"
      ],
      "metadata": {
        "id": "dN1KFyBI1i_f"
      }
    },
    {
      "cell_type": "code",
      "source": [
        "#Training and Predicting the data\n",
        "MNB = MultinomialNB(alpha = 2.0)\n",
        "MNB.fit(X_train_vect,y_train)"
      ],
      "metadata": {
        "colab": {
          "base_uri": "https://localhost:8080/"
        },
        "id": "1X3Q3Bfv1o2i",
        "outputId": "688a935e-4b49-4eb9-ae2c-d077c0b06966"
      },
      "execution_count": 66,
      "outputs": [
        {
          "output_type": "execute_result",
          "data": {
            "text/plain": [
              "MultinomialNB(alpha=2.0)"
            ]
          },
          "metadata": {},
          "execution_count": 66
        }
      ]
    },
    {
      "cell_type": "code",
      "source": [
        "# Prédiction pour les données de validation\n",
        "y_val_pred = MNB.predict(X_val_vect)"
      ],
      "metadata": {
        "id": "WwIbij1M3dh6"
      },
      "execution_count": 67,
      "outputs": []
    },
    {
      "cell_type": "code",
      "source": [
        "# Précision\n",
        "print('Accuracy:', accuracy_score(y_val, y_val_pred))"
      ],
      "metadata": {
        "colab": {
          "base_uri": "https://localhost:8080/"
        },
        "id": "SwTq4P6N3xB6",
        "outputId": "c97c83df-9aab-4e74-cd4a-06fc01dd43db"
      },
      "execution_count": 69,
      "outputs": [
        {
          "output_type": "stream",
          "name": "stdout",
          "text": [
            "Accuracy: 0.7791940018744142\n"
          ]
        }
      ]
    },
    {
      "cell_type": "code",
      "source": [
        "# Rapport de classification\n",
        "print(classification_report(y_val, y_val_pred))"
      ],
      "metadata": {
        "colab": {
          "base_uri": "https://localhost:8080/"
        },
        "id": "pbEG8Xq-33-E",
        "outputId": "4a3a5ddc-251d-4016-dde9-1da9e347c362"
      },
      "execution_count": 70,
      "outputs": [
        {
          "output_type": "stream",
          "name": "stdout",
          "text": [
            "              precision    recall  f1-score   support\n",
            "\n",
            "    negative       0.76      0.82      0.79    103891\n",
            "     neutral       0.00      0.00      0.00        18\n",
            "    positive       0.81      0.73      0.77    104156\n",
            "\n",
            "    accuracy                           0.78    208065\n",
            "   macro avg       0.52      0.52      0.52    208065\n",
            "weighted avg       0.78      0.78      0.78    208065\n",
            "\n"
          ]
        }
      ]
    },
    {
      "cell_type": "code",
      "source": [
        "# Matrice de confusion\n",
        "print(confusion_matrix(y_val, y_val_pred))"
      ],
      "metadata": {
        "colab": {
          "base_uri": "https://localhost:8080/"
        },
        "id": "CDjWWeSj4VEW",
        "outputId": "65461643-57d0-457b-ac99-c8027cb0a887"
      },
      "execution_count": 71,
      "outputs": [
        {
          "output_type": "stream",
          "name": "stdout",
          "text": [
            "[[85592     0 18299]\n",
            " [    6     0    12]\n",
            " [27623     2 76531]]\n"
          ]
        }
      ]
    },
    {
      "cell_type": "code",
      "source": [
        "# Plot de la matrice de confusion\n",
        "disp = plot_confusion_matrix(MNB, X_val_vect, y_val, normalize='true',cmap=plt.cm.Blues)\n",
        "disp.ax_.set_title(\"Matrice de confusion du classifieur de Bayes\")"
      ],
      "metadata": {
        "colab": {
          "base_uri": "https://localhost:8080/",
          "height": 367
        },
        "id": "gQNzBqDhgTBa",
        "outputId": "997db503-190f-40e3-a664-efb4959de4ab"
      },
      "execution_count": 72,
      "outputs": [
        {
          "output_type": "stream",
          "name": "stderr",
          "text": [
            "/usr/local/lib/python3.8/dist-packages/sklearn/utils/deprecation.py:87: FutureWarning: Function plot_confusion_matrix is deprecated; Function `plot_confusion_matrix` is deprecated in 1.0 and will be removed in 1.2. Use one of the class methods: ConfusionMatrixDisplay.from_predictions or ConfusionMatrixDisplay.from_estimator.\n",
            "  warnings.warn(msg, category=FutureWarning)\n"
          ]
        },
        {
          "output_type": "execute_result",
          "data": {
            "text/plain": [
              "Text(0.5, 1.0, 'Matrice de confusion du classifieur de Bayes')"
            ]
          },
          "metadata": {},
          "execution_count": 72
        },
        {
          "output_type": "display_data",
          "data": {
            "text/plain": [
              "<Figure size 432x288 with 2 Axes>"
            ],
            "image/png": "[encoded data removed]"
          },
          "metadata": {
            "needs_background": "light"
          }
        }
      ]
    },
    {
      "cell_type": "markdown",
      "source": [
        "## Prédiction pour les données de test"
      ],
      "metadata": {
        "id": "5ux38nx-9F_g"
      }
    },
    {
      "cell_type": "code",
      "source": [
        "# Transformation des données de test en vecteur numérique de comptage de mots\n",
        "X_test_vect = count_vect.transform(test_data.text)"
      ],
      "metadata": {
        "id": "tObUECkj-CUE"
      },
      "execution_count": 73,
      "outputs": []
    },
    {
      "cell_type": "code",
      "source": [
        "# Prédiction pour les données de test\n",
        "y_test_pred = MNB.predict(X_test_vect)"
      ],
      "metadata": {
        "id": "G0ogacC0-gjv"
      },
      "execution_count": 75,
      "outputs": []
    },
    {
      "cell_type": "code",
      "source": [
        "# Transformation des labels: de \"positif\", \"neutre\" et \"négatif\" à 0, 1, 2 respectivement\n",
        "for i in range(len(y_test_pred)):\n",
        "  if y_test_pred[i] == \"negative\":\n",
        "    y_test_pred[i] = 0\n",
        "  elif y_test_pred[i] == \"neutral\":\n",
        "    y_test_pred[i] = 1\n",
        "  else:\n",
        "    y_test_pred[i] = 2"
      ],
      "metadata": {
        "id": "Q7ed-ftVGUFG"
      },
      "execution_count": 77,
      "outputs": []
    },
    {
      "cell_type": "code",
      "source": [
        "# Enregistrement dans le fichier submission.csv\n",
        "my_submission = pd.DataFrame({'id': np.arange(0,y_test_pred.shape[0],1), 'target': y_test_pred})\n",
        "my_submission.to_csv('NaiveBayes.csv', index=False)"
      ],
      "metadata": {
        "id": "ns6q0GLvI36K"
      },
      "execution_count": 80,
      "outputs": []
    }
  ]
}