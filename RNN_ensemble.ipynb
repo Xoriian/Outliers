{
  "cells": [
    {
      "cell_type": "code",
      "execution_count": 3,
      "metadata": {
        "id": "zpL79uuG7aS-"
      },
      "outputs": [],
      "source": [
        "#%pip install lime"
      ]
    },
    {
      "cell_type": "code",
      "execution_count": 4,
      "metadata": {
        "id": "BDfqbp2VEOG5",
        "colab": {
          "base_uri": "https://localhost:8080/"
        },
        "outputId": "0cf151f5-7b41-43cd-f733-5af66f8b8158"
      },
      "outputs": [
        {
          "output_type": "stream",
          "name": "stdout",
          "text": [
            "Mounted at /content/drive\n"
          ]
        }
      ],
      "source": [
        "import utils_data as utils\n",
        "import torch\n",
        "import torch.nn as nn \n",
        "import torch.nn.functional as F\n",
        "from torchtext.data.utils import get_tokenizer\n",
        "from torchtext.data import get_tokenizer\n",
        "from torchtext.vocab import build_vocab_from_iterator\n",
        "from torchtext.data.functional import to_map_style_dataset\n",
        "from torch.utils.data import DataLoader\n",
        "from torch.optim import Adam\n",
        "\n",
        "from tqdm import tqdm\n",
        "from sklearn.metrics import accuracy_score, classification_report, confusion_matrix\n",
        "import gc\n",
        "\n",
        "#from lime import lime_text\n",
        "from numpy import random\n",
        "\n",
        "device = \"cuda\" if torch.cuda.is_available() else \"cpu\""
      ]
    },
    {
      "cell_type": "markdown",
      "metadata": {
        "id": "1AFaNzmXEOG6"
      },
      "source": [
        "### Importation du dataset"
      ]
    },
    {
      "cell_type": "code",
      "execution_count": 5,
      "metadata": {
        "id": "5WcGG-cWEOG7"
      },
      "outputs": [],
      "source": [
        "text_train, text_val = utils.get_data_split()\n",
        "label_train, label_val = utils.get_labels_split()\n",
        "text_test = utils.get_test()\n",
        "\n",
        "merged_train = utils.merge_data_labels(text_train, label_train)\n",
        "merged_val = utils.merge_data_labels(text_val, label_val)"
      ]
    },
    {
      "cell_type": "code",
      "execution_count": 6,
      "metadata": {
        "id": "8BIsCE_PJ9tf"
      },
      "outputs": [],
      "source": [
        "# Solution pour randomiser la séparation train / val\n",
        "text_all = utils.get_data()\n",
        "labels_all = utils.get_labels()\n",
        "limit = int(len(labels_all) * 0.85) + 1\n",
        "\n",
        "merged_all = utils.merge_data_labels(text_all, labels_all)\n",
        "random.shuffle(merged_all)\n",
        "\n",
        "merged_train, merged_val = merged_all[:limit], merged_all[limit:] # Séparation entre les données de train et de validation (85% - 15%)"
      ]
    },
    {
      "cell_type": "markdown",
      "source": [
        "### Séparation des données pour chaque expert"
      ],
      "metadata": {
        "id": "zaTQqpowD_uS"
      }
    },
    {
      "cell_type": "code",
      "source": [
        "nb_experts = 5\n",
        "limit_expert = int(len(labels_all) * 0.8) + 1\n",
        "\n",
        "merged_train_set = []\n",
        "for i in range(nb_experts):\n",
        "  random.shuffle(merged_all)\n",
        "  merged_train_set.append(merged_all[:limit_expert])"
      ],
      "metadata": {
        "id": "5s7fHjqRD_UZ"
      },
      "execution_count": 7,
      "outputs": []
    },
    {
      "cell_type": "markdown",
      "metadata": {
        "id": "4GZJfwPWEOG7"
      },
      "source": [
        "Note importante : toute la suite est inspiré de : https://coderzcolumn.com/tutorials/artificial-intelligence/pytorch-rnn-for-text-classification-tasks, ainsi que du cours IFT 6135-A2022."
      ]
    },
    {
      "cell_type": "markdown",
      "metadata": {
        "id": "Ty6n7mr-EOG7"
      },
      "source": [
        "### Création de tokens à partir des phrases"
      ]
    },
    {
      "cell_type": "code",
      "execution_count": 8,
      "metadata": {
        "colab": {
          "base_uri": "https://localhost:8080/"
        },
        "id": "-H9b0_HSEOG7",
        "outputId": "b08e3264-11b8-4508-9d6e-a59a4275490e"
      },
      "outputs": [
        {
          "output_type": "execute_result",
          "data": {
            "text/plain": [
              "781347"
            ]
          },
          "metadata": {},
          "execution_count": 8
        }
      ],
      "source": [
        "tokenizer = get_tokenizer(\"basic_english\")\n",
        "\n",
        "def build_vocabulary(datasets):\n",
        "    for dataset in datasets:\n",
        "        for text in dataset:\n",
        "            yield tokenizer(text)\n",
        "\n",
        "vocab = build_vocab_from_iterator(build_vocabulary([text_train, text_val, text_test]), min_freq=1, specials=[\"<UNK>\"])\n",
        "vocab.set_default_index(vocab[\"<UNK>\"])\n",
        "len(vocab)"
      ]
    },
    {
      "cell_type": "markdown",
      "metadata": {
        "id": "857_mKwVEOG8"
      },
      "source": [
        "### Préparation des données"
      ]
    },
    {
      "cell_type": "code",
      "execution_count": 9,
      "metadata": {
        "id": "BKZvzdKSEOG8"
      },
      "outputs": [],
      "source": [
        "data_train_experts = []\n",
        "data_val = to_map_style_dataset(merged_val)\n",
        "data_test = to_map_style_dataset(text_test)\n",
        "for i in range(nb_experts):\n",
        "  data_train_experts.append(to_map_style_dataset(merged_train_set[i]))\n",
        "\n",
        "target_classes = [\"negative\", \"neutral\", \"positive\"]\n",
        "max_words = 25\n",
        "\n",
        "def vectorize_batch(batch):\n",
        "    X, Y = list(zip(*batch))\n",
        "    X = [vocab(tokenizer(text)) for text in X]\n",
        "    X = [tokens+([0]* (max_words-len(tokens))) if len(tokens)<max_words else tokens[:max_words] for tokens in X] ## Bringing all samples to max_words length.\n",
        "\n",
        "    return torch.tensor(X, dtype=torch.int32), torch.tensor(Y, dtype = torch.long)\n",
        "\n",
        "\n",
        "def vectorize_test_batch(batch):\n",
        "    X = list(batch)\n",
        "    X = [vocab(tokenizer(text)) for text in X]\n",
        "    X = [tokens+([0]* (max_words-len(tokens))) if len(tokens)<max_words else tokens[:max_words] for tokens in X] ## Bringing all samples to max_words length.\n",
        "\n",
        "    return torch.tensor(X, dtype=torch.int32)\n",
        "\n",
        "train_loader_experts = []\n",
        "val_loader = DataLoader(data_val, batch_size=1024, collate_fn=vectorize_batch)\n",
        "test_loader = DataLoader(data_test, batch_size=1024, collate_fn=vectorize_test_batch)\n",
        "\n",
        "for i in range(nb_experts):\n",
        "  train_loader_experts.append(DataLoader(data_train_experts[i], batch_size=1024, collate_fn=vectorize_batch, shuffle=True))"
      ]
    },
    {
      "cell_type": "markdown",
      "metadata": {
        "id": "_HDOXv9TEOG8"
      },
      "source": [
        "### Définition du RNN (LSTM)"
      ]
    },
    {
      "cell_type": "code",
      "execution_count": 10,
      "metadata": {
        "id": "qOy7TJHbEOG9"
      },
      "outputs": [],
      "source": [
        "embed_len = 50\n",
        "hidden_dim = 50\n",
        "n_layers = 4\n",
        "p_dropout = 0.5\n",
        "\n",
        "class RNNClassifier(nn.Module):\n",
        "    def __init__(self):\n",
        "        super(RNNClassifier, self).__init__()\n",
        "        self.embedding_layer = nn.Embedding(num_embeddings=len(vocab), embedding_dim=embed_len)\n",
        "        self.rnn = nn.LSTM(input_size=embed_len, hidden_size=hidden_dim, num_layers=n_layers, dropout=p_dropout, batch_first=True)\n",
        "        self.linear = nn.Linear(hidden_dim, len(target_classes))\n",
        "\n",
        "    def forward(self, X_batch):\n",
        "        embeddings = self.embedding_layer(X_batch).to(device)\n",
        "        output, hidden = self.rnn(embeddings)\n",
        "        return self.linear(output[:,-1])"
      ]
    },
    {
      "cell_type": "markdown",
      "metadata": {
        "id": "LC8-YNWcEOG9"
      },
      "source": [
        "### Entraînement du RNN"
      ]
    },
    {
      "cell_type": "code",
      "execution_count": 11,
      "metadata": {
        "id": "EnpWFX1qEOG9"
      },
      "outputs": [],
      "source": [
        "def evaluate(model, loss_fn, val_loader):\n",
        "    with torch.no_grad():\n",
        "        Y_losses_experts, Y_preds_experts = [], []\n",
        "        for i in range(nb_experts):\n",
        "          model[i].eval()\n",
        "          Y_true, Y_preds, losses = [],[],[]\n",
        "          for X, Y in val_loader:\n",
        "              Y_true.append(Y)\n",
        "              Y = torch.tensor(utils.to_one_hot(Y.numpy(), len(target_classes)))\n",
        "              X, Y = X.to(device), Y.to(device)\n",
        "              preds = model[i](X)\n",
        "              loss = loss_fn(preds, Y)\n",
        "              losses.append(loss.item())\n",
        "              Y_preds.append(preds)\n",
        "\n",
        "          Y_true = torch.cat(Y_true)\n",
        "          Y_preds = torch.cat(Y_preds)\n",
        "\n",
        "          Y_losses_experts.append(torch.tensor(losses).mean())\n",
        "          Y_preds_experts.append(Y_preds)\n",
        "\n",
        "          model[i].train()\n",
        "\n",
        "        Y_losses_experts = torch.tensor(Y_losses_experts).mean()\n",
        "        Y_preds_experts = F.softmax(torch.stack(Y_preds_experts, dim = -1).mean(dim = -1), dim = -1).argmax(dim = -1)\n",
        "\n",
        "        print(\"Valid Loss : {:.3f} | Valid Acc : {:.3f}\".format(Y_losses_experts, accuracy_score(Y_true.detach().cpu().numpy(), Y_preds_experts.detach().cpu().numpy())))\n",
        "        \n",
        "def train(model, loss_fn, optimizer, train_loader, val_loader, epochs=10):\n",
        "    for epoch in range(1, epochs+1):\n",
        "      Y_losses_experts, Y_acc_experts = [], []\n",
        "      for i in range(nb_experts):\n",
        "        Y_true, Y_preds, losses = [],[],[]\n",
        "        for X, Y in tqdm(train_loader[i]):\n",
        "            Y_true.append(Y)\n",
        "            Y = torch.tensor(utils.to_one_hot(Y.numpy(), len(target_classes)))\n",
        "            X, Y = X.to(device), Y.to(device)\n",
        "            optimizer[i].zero_grad()\n",
        "            preds = model[i](X)\n",
        "            loss = loss_fn(preds, Y)\n",
        "            losses.append(loss.item())\n",
        "            Y_preds.append(F.softmax(preds, dim = -1).argmax(dim = -1))\n",
        "            loss.backward()\n",
        "            optimizer[i].step()\n",
        "\n",
        "        Y_true = torch.cat(Y_true)\n",
        "        Y_preds = torch.cat(Y_preds)\n",
        "\n",
        "        Y_losses_experts.append(torch.tensor(losses).mean())\n",
        "        Y_acc_experts.append(accuracy_score(Y_true.detach().cpu().numpy(), Y_preds.detach().cpu().numpy()))\n",
        "\n",
        "      Y_losses_experts = torch.tensor(Y_losses_experts).mean()\n",
        "      Y_acc_experts = torch.tensor(Y_acc_experts).mean()\n",
        "            \n",
        "      print(\"Epoch {} | Train Loss (moy) : {:.3f} | Train acc (moy) : {:.3f}\".format(epoch, Y_losses_experts, Y_acc_experts))\n",
        "      evaluate(model, loss_fn, val_loader)"
      ]
    },
    {
      "cell_type": "code",
      "execution_count": 12,
      "metadata": {
        "colab": {
          "base_uri": "https://localhost:8080/"
        },
        "id": "KflHzO4sEOG-",
        "outputId": "53b4c122-ccb3-4652-a050-c68ec4960c30"
      },
      "outputs": [
        {
          "output_type": "stream",
          "name": "stderr",
          "text": [
            "100%|██████████| 813/813 [00:29<00:00, 27.26it/s]\n",
            "100%|██████████| 813/813 [00:28<00:00, 28.47it/s]\n",
            "100%|██████████| 813/813 [00:27<00:00, 29.21it/s]\n",
            "100%|██████████| 813/813 [00:27<00:00, 29.53it/s]\n",
            "100%|██████████| 813/813 [00:27<00:00, 29.31it/s]\n"
          ]
        },
        {
          "output_type": "stream",
          "name": "stdout",
          "text": [
            "Epoch 1 | Train Loss (moy) : 0.610 | Train acc (moy) : 0.633\n",
            "Valid Loss : 0.471 | Valid Acc : 0.795\n"
          ]
        },
        {
          "output_type": "stream",
          "name": "stderr",
          "text": [
            "100%|██████████| 813/813 [00:27<00:00, 29.11it/s]\n",
            "100%|██████████| 813/813 [00:27<00:00, 29.05it/s]\n",
            "100%|██████████| 813/813 [00:28<00:00, 28.59it/s]\n",
            "100%|██████████| 813/813 [00:28<00:00, 28.16it/s]\n",
            "100%|██████████| 813/813 [00:28<00:00, 28.60it/s]\n"
          ]
        },
        {
          "output_type": "stream",
          "name": "stdout",
          "text": [
            "Epoch 2 | Train Loss (moy) : 0.446 | Train acc (moy) : 0.792\n",
            "Valid Loss : 0.415 | Valid Acc : 0.822\n"
          ]
        },
        {
          "output_type": "stream",
          "name": "stderr",
          "text": [
            "100%|██████████| 813/813 [00:27<00:00, 29.49it/s]\n",
            "100%|██████████| 813/813 [00:27<00:00, 29.38it/s]\n",
            "100%|██████████| 813/813 [00:28<00:00, 28.91it/s]\n",
            "100%|██████████| 813/813 [00:27<00:00, 29.40it/s]\n",
            "100%|██████████| 813/813 [00:28<00:00, 28.93it/s]\n"
          ]
        },
        {
          "output_type": "stream",
          "name": "stdout",
          "text": [
            "Epoch 3 | Train Loss (moy) : 0.406 | Train acc (moy) : 0.816\n",
            "Valid Loss : 0.387 | Valid Acc : 0.840\n"
          ]
        },
        {
          "output_type": "stream",
          "name": "stderr",
          "text": [
            "100%|██████████| 813/813 [00:28<00:00, 28.81it/s]\n",
            "100%|██████████| 813/813 [00:27<00:00, 29.61it/s]\n",
            "100%|██████████| 813/813 [00:28<00:00, 29.03it/s]\n",
            "100%|██████████| 813/813 [00:27<00:00, 29.93it/s]\n",
            "100%|██████████| 813/813 [00:27<00:00, 29.15it/s]\n"
          ]
        },
        {
          "output_type": "stream",
          "name": "stdout",
          "text": [
            "Epoch 4 | Train Loss (moy) : 0.376 | Train acc (moy) : 0.833\n",
            "Valid Loss : 0.363 | Valid Acc : 0.855\n"
          ]
        },
        {
          "output_type": "stream",
          "name": "stderr",
          "text": [
            "100%|██████████| 813/813 [00:27<00:00, 29.69it/s]\n",
            "100%|██████████| 813/813 [00:27<00:00, 29.62it/s]\n",
            "100%|██████████| 813/813 [00:27<00:00, 29.07it/s]\n",
            "100%|██████████| 813/813 [00:28<00:00, 28.85it/s]\n",
            "100%|██████████| 813/813 [00:27<00:00, 29.11it/s]\n"
          ]
        },
        {
          "output_type": "stream",
          "name": "stdout",
          "text": [
            "Epoch 5 | Train Loss (moy) : 0.349 | Train acc (moy) : 0.848\n",
            "Valid Loss : 0.341 | Valid Acc : 0.870\n"
          ]
        },
        {
          "output_type": "stream",
          "name": "stderr",
          "text": [
            "100%|██████████| 813/813 [00:27<00:00, 29.73it/s]\n",
            "100%|██████████| 813/813 [00:28<00:00, 29.01it/s]\n",
            "100%|██████████| 813/813 [00:27<00:00, 29.87it/s]\n",
            "100%|██████████| 813/813 [00:27<00:00, 29.85it/s]\n",
            "100%|██████████| 813/813 [00:27<00:00, 29.20it/s]\n"
          ]
        },
        {
          "output_type": "stream",
          "name": "stdout",
          "text": [
            "Epoch 6 | Train Loss (moy) : 0.322 | Train acc (moy) : 0.863\n",
            "Valid Loss : 0.321 | Valid Acc : 0.884\n"
          ]
        },
        {
          "output_type": "stream",
          "name": "stderr",
          "text": [
            "100%|██████████| 813/813 [00:28<00:00, 28.80it/s]\n",
            "100%|██████████| 813/813 [00:27<00:00, 29.63it/s]\n",
            "100%|██████████| 813/813 [00:27<00:00, 29.25it/s]\n",
            "100%|██████████| 813/813 [00:27<00:00, 29.88it/s]\n",
            "100%|██████████| 813/813 [00:27<00:00, 29.06it/s]\n"
          ]
        },
        {
          "output_type": "stream",
          "name": "stdout",
          "text": [
            "Epoch 7 | Train Loss (moy) : 0.296 | Train acc (moy) : 0.876\n",
            "Valid Loss : 0.305 | Valid Acc : 0.895\n"
          ]
        },
        {
          "output_type": "stream",
          "name": "stderr",
          "text": [
            "100%|██████████| 813/813 [00:27<00:00, 29.53it/s]\n",
            "100%|██████████| 813/813 [00:27<00:00, 29.47it/s]\n",
            "100%|██████████| 813/813 [00:27<00:00, 29.04it/s]\n",
            "100%|██████████| 813/813 [00:28<00:00, 28.91it/s]\n",
            "100%|██████████| 813/813 [00:27<00:00, 29.04it/s]\n"
          ]
        },
        {
          "output_type": "stream",
          "name": "stdout",
          "text": [
            "Epoch 8 | Train Loss (moy) : 0.271 | Train acc (moy) : 0.889\n",
            "Valid Loss : 0.291 | Valid Acc : 0.907\n"
          ]
        },
        {
          "output_type": "stream",
          "name": "stderr",
          "text": [
            "100%|██████████| 813/813 [00:27<00:00, 29.75it/s]\n",
            "100%|██████████| 813/813 [00:27<00:00, 29.72it/s]\n",
            "100%|██████████| 813/813 [00:28<00:00, 28.93it/s]\n",
            "100%|██████████| 813/813 [00:27<00:00, 29.80it/s]\n",
            "100%|██████████| 813/813 [00:27<00:00, 29.17it/s]\n"
          ]
        },
        {
          "output_type": "stream",
          "name": "stdout",
          "text": [
            "Epoch 9 | Train Loss (moy) : 0.249 | Train acc (moy) : 0.900\n",
            "Valid Loss : 0.278 | Valid Acc : 0.914\n"
          ]
        },
        {
          "output_type": "stream",
          "name": "stderr",
          "text": [
            "100%|██████████| 813/813 [00:28<00:00, 28.80it/s]\n",
            "100%|██████████| 813/813 [00:27<00:00, 29.86it/s]\n",
            "100%|██████████| 813/813 [00:27<00:00, 29.34it/s]\n",
            "100%|██████████| 813/813 [00:27<00:00, 29.85it/s]\n",
            "100%|██████████| 813/813 [00:27<00:00, 29.28it/s]\n"
          ]
        },
        {
          "output_type": "stream",
          "name": "stdout",
          "text": [
            "Epoch 10 | Train Loss (moy) : 0.229 | Train acc (moy) : 0.909\n",
            "Valid Loss : 0.269 | Valid Acc : 0.922\n"
          ]
        }
      ],
      "source": [
        "epochs = 10\n",
        "learning_rate = 0.001\n",
        "\n",
        "loss_fn = nn.CrossEntropyLoss()\n",
        "rnn_classifiers, optimizers = [], []\n",
        "for i in range(nb_experts):\n",
        "  rnn_classifiers.append(RNNClassifier().to(device))\n",
        "  optimizers.append(Adam(rnn_classifiers[i].parameters(), lr=learning_rate))\n",
        "\n",
        "train(rnn_classifiers, loss_fn, optimizers, train_loader_experts, val_loader, epochs)"
      ]
    },
    {
      "cell_type": "markdown",
      "metadata": {
        "id": "uM9hYKfHEOG-"
      },
      "source": [
        "### Prédictions sur l'ensemble de test"
      ]
    },
    {
      "cell_type": "code",
      "execution_count": null,
      "metadata": {
        "colab": {
          "base_uri": "https://localhost:8080/"
        },
        "id": "swTDpMYdEOG-",
        "outputId": "7d9b7827-9aec-4259-c302-c5b90cbfe78b"
      },
      "outputs": [
        {
          "output_type": "stream",
          "name": "stderr",
          "text": [
            "100%|██████████| 548/548 [00:13<00:00, 42.12it/s]\n",
            "100%|██████████| 548/548 [00:12<00:00, 42.71it/s]\n",
            " 23%|██▎       | 128/548 [00:02<00:12, 33.63it/s]"
          ]
        }
      ],
      "source": [
        "def predict(model, loader):\n",
        "    Y_preds_experts = []\n",
        "    for i in range(nb_experts):\n",
        "      Y_preds = []\n",
        "      for X in tqdm(loader):\n",
        "          X = X.to(device)\n",
        "          preds = model[i](X)\n",
        "          Y_preds.append(preds.detach().cpu())\n",
        "      gc.collect()\n",
        "      Y_preds = torch.cat(Y_preds)\n",
        "    Y_preds_experts.append(Y_preds)\n",
        "\n",
        "    return F.softmax(torch.stack(Y_preds_experts, dim = -1).mean(dim = -1), dim = -1).argmax(dim = -1).numpy()\n",
        "\n",
        "Y_preds = predict(rnn_classifiers, test_loader)"
      ]
    },
    {
      "cell_type": "markdown",
      "metadata": {
        "id": "KLRzU1rvEOG-"
      },
      "source": [
        "### Enregistrement des résultats"
      ]
    },
    {
      "cell_type": "code",
      "execution_count": 14,
      "metadata": {
        "id": "aGTsXRzuEOG_"
      },
      "outputs": [],
      "source": [
        "utils.save_results(Y_preds, \"RNN_ensemble\")"
      ]
    },
    {
      "cell_type": "markdown",
      "metadata": {
        "id": "JSKKH6Pf5nA_"
      },
      "source": [
        "### Explicabilité : Matrice de confusion et LIME"
      ]
    },
    {
      "cell_type": "code",
      "execution_count": 15,
      "metadata": {
        "id": "NxwumCxzhwcE"
      },
      "outputs": [],
      "source": [
        "# val_loader_test = DataLoader(text_val, batch_size=1024, collate_fn=vectorize_test_batch)\n",
        "# Y_preds_val = predict(rnn_classifier, val_loader_test)\n",
        "# Y_actual_val = label_val[:, 1]\n",
        "\n",
        "# print(\"Test Accuracy : {}\".format(accuracy_score(Y_actual_val, Y_preds_val)))\n",
        "# print(\"\\nClassification Report : \")\n",
        "# print(classification_report(Y_actual_val, Y_preds_val, target_names=target_classes))\n",
        "# print(\"\\nConfusion Matrix : \")\n",
        "# print(confusion_matrix(Y_actual_val, Y_preds_val))"
      ]
    },
    {
      "cell_type": "code",
      "execution_count": 16,
      "metadata": {
        "id": "-eftm4iB5snH"
      },
      "outputs": [],
      "source": [
        "# X_test_text, Y_test = [], []\n",
        "# for X, Y in merged_val:\n",
        "#     X_test_text.append(X)\n",
        "#     Y_test.append(Y)\n",
        "\n",
        "# explainer = lime_text.LimeTextExplainer(class_names=target_classes, verbose=True)\n",
        "\n",
        "# def make_predictions_lime(X_batch_text):\n",
        "#     X = [vocab(tokenizer(text)) for text in X_batch_text]\n",
        "#     X = [tokens+([0]* (max_words-len(tokens))) if len(tokens)<max_words else tokens[:max_words] for tokens in X] ## Bringing all samples to max_words length.\n",
        "#     logits = rnn_classifier(torch.tensor(X, dtype=torch.int32, device = device))\n",
        "#     preds = F.softmax(logits, dim=-1)\n",
        "#     return preds.detach().cpu().numpy()\n",
        "\n",
        "# idx = int(random.uniform(0, len(Y_test), 1))\n",
        "# X = [vocab(tokenizer(text)) for text in X_test_text[idx:idx+1]]\n",
        "# X = [tokens+([0]* (max_words-len(tokens))) if len(tokens)<max_words else tokens[:max_words] for tokens in X] ## Bringing all samples to max_words length.\n",
        "# preds = rnn_classifier(torch.tensor(X, dtype=torch.int32, device = device))\n",
        "# preds = F.softmax(preds, dim=-1)\n",
        "\n",
        "# explanation = explainer.explain_instance(X_test_text[idx], classifier_fn=make_predictions_lime,\n",
        "#                                          labels=Y_test[idx:idx+1])\n",
        "# explanation.show_in_notebook()\n",
        "# print(\"Prediction : \", target_classes[preds.argmax()])\n",
        "# print(\"Actual :     \", target_classes[Y_test[idx]])"
      ]
    }
  ],
  "metadata": {
    "accelerator": "GPU",
    "colab": {
      "provenance": []
    },
    "gpuClass": "standard",
    "kernelspec": {
      "display_name": "Python 3.10.8 64-bit (microsoft store)",
      "language": "python",
      "name": "python3"
    },
    "language_info": {
      "codemirror_mode": {
        "name": "ipython",
        "version": 3
      },
      "file_extension": ".py",
      "mimetype": "text/x-python",
      "name": "python",
      "nbconvert_exporter": "python",
      "pygments_lexer": "ipython3",
      "version": "3.10.8"
    },
    "orig_nbformat": 4,
    "vscode": {
      "interpreter": {
        "hash": "c5fb5e78068286ad4ec2111baba118e0d35af9e9b40524b1c6e140f245c1a137"
      }
    }
  },
  "nbformat": 4,
  "nbformat_minor": 0
}