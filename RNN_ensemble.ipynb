{
  "cells": [
    {
      "cell_type": "code",
      "execution_count": null,
      "metadata": {
        "colab": {
          "base_uri": "https://localhost:8080/"
        },
        "id": "BDfqbp2VEOG5",
        "outputId": "29ac1e3e-ddd7-4ef4-ec45-ab419fbb0e71"
      },
      "outputs": [],
      "source": [
        "import utils_data as utils\n",
        "\n",
        "import torch\n",
        "import torch.nn as nn \n",
        "import torch.nn.functional as F\n",
        "from torchtext.data.utils import get_tokenizer\n",
        "from torchtext.vocab import build_vocab_from_iterator\n",
        "from torchtext.data.functional import to_map_style_dataset\n",
        "from torch.utils.data import DataLoader\n",
        "from torch.utils.data import WeightedRandomSampler\n",
        "from torch.optim import Adam\n",
        "\n",
        "from tqdm import tqdm\n",
        "from sklearn.metrics import accuracy_score\n",
        "from collections import Counter\n",
        "import numpy as np\n",
        "import gc\n",
        "\n",
        "device = \"cuda\" if torch.cuda.is_available() else \"cpu\""
      ]
    },
    {
      "cell_type": "markdown",
      "metadata": {
        "id": "1AFaNzmXEOG6"
      },
      "source": [
        "### Importation du dataset"
      ]
    },
    {
      "cell_type": "code",
      "execution_count": null,
      "metadata": {
        "id": "8BIsCE_PJ9tf"
      },
      "outputs": [],
      "source": [
        "# Solution pour randomiser la séparation train / val\n",
        "text_all = utils.get_data()\n",
        "labels_all = utils.get_labels()\n",
        "limit = int(len(labels_all) * 0.8) + 1\n",
        "\n",
        "merged_all = utils.merge_data_labels(text_all, labels_all)\n",
        "np.random.shuffle(merged_all)\n",
        "\n",
        "merged_train, merged_val = merged_all[:limit], merged_all[limit:] # Séparation entre les données de train et de validation (80% - 20%)\n",
        "\n",
        "text_test = utils.get_test()"
      ]
    },
    {
      "cell_type": "markdown",
      "metadata": {
        "id": "QUVr1IzlDQ1m"
      },
      "source": [
        "### Hyperparamètres"
      ]
    },
    {
      "cell_type": "code",
      "execution_count": null,
      "metadata": {
        "id": "uRCXSM1PDQ1n"
      },
      "outputs": [],
      "source": [
        "nb_RNN = 3\n",
        "limit_RNN = int(len(merged_train) * 0.8) + 1\n",
        "\n",
        "target_classes = [\"negative\", \"neutral\", \"positive\"]\n",
        "max_words = 75\n",
        "embed_len = 75\n",
        "hidden_dim = 75\n",
        "n_layers = 5\n",
        "p_dropout = 0.3\n",
        "epochs = 15\n",
        "learning_rate = 0.001"
      ]
    },
    {
      "cell_type": "markdown",
      "metadata": {
        "id": "zaTQqpowD_uS"
      },
      "source": [
        "### Séparation des données pour chaque RNN"
      ]
    },
    {
      "cell_type": "code",
      "execution_count": null,
      "metadata": {
        "id": "5s7fHjqRD_UZ"
      },
      "outputs": [],
      "source": [
        "# Chaque RNN sera entraîné sur un ensemble de données différent\n",
        "merged_train_set = []\n",
        "for i in range(nb_RNN):\n",
        "  np.random.shuffle(merged_train)\n",
        "  merged_train_set.append(merged_train[:limit_RNN])"
      ]
    },
    {
      "cell_type": "markdown",
      "metadata": {
        "id": "4GZJfwPWEOG7"
      },
      "source": [
        "Note importante : toute la suite est inspiré de : https://coderzcolumn.com/tutorials/artificial-intelligence/pytorch-rnn-for-text-classification-tasks, ainsi que du cours IFT 6135-A2022."
      ]
    },
    {
      "cell_type": "markdown",
      "metadata": {
        "id": "Ty6n7mr-EOG7"
      },
      "source": [
        "### Création de tokens à partir des phrases"
      ]
    },
    {
      "cell_type": "code",
      "execution_count": null,
      "metadata": {
        "id": "-H9b0_HSEOG7"
      },
      "outputs": [],
      "source": [
        "# On construit notre vocabulaire à partir des mots de la base de données\n",
        "tokenizer = get_tokenizer(\"basic_english\")\n",
        "\n",
        "def build_vocabulary(datasets):\n",
        "    for dataset in datasets:\n",
        "        for text in dataset:\n",
        "            yield tokenizer(text)\n",
        "\n",
        "vocab = build_vocab_from_iterator(build_vocabulary([text_all]), min_freq=1, specials=[\"<UNK>\"])\n",
        "vocab.set_default_index(vocab[\"<UNK>\"])"
      ]
    },
    {
      "cell_type": "markdown",
      "metadata": {
        "id": "857_mKwVEOG8"
      },
      "source": [
        "### Préparation des données"
      ]
    },
    {
      "cell_type": "code",
      "execution_count": null,
      "metadata": {
        "id": "X3mytAAvDQ1q"
      },
      "outputs": [],
      "source": [
        "# Comptage du nombre d'exemples par classe pour établir des poids et un \"sampler\" (sur l'ensemble des données d'entraînement choisies)\n",
        "samplers = []\n",
        "for j in range(nb_RNN):\n",
        "    label_train = np.asarray([list(e) for e in merged_train_set[j]])[:, 1].astype(int)\n",
        "    counter = Counter(label_train.tolist())\n",
        "\n",
        "    class_weights = [len(label_train) / counter[i] for i in range(len(counter))]\n",
        "    weights = [class_weights[label_train[i]] for i in range(len(label_train))]\n",
        "    samplers.append(WeightedRandomSampler(torch.DoubleTensor(weights), len(label_train)))"
      ]
    },
    {
      "cell_type": "code",
      "execution_count": null,
      "metadata": {
        "id": "BKZvzdKSEOG8"
      },
      "outputs": [],
      "source": [
        "# Préparation des données sous un format lisible par PyTorch\n",
        "data_train_experts = []\n",
        "data_val = to_map_style_dataset(merged_val)\n",
        "data_test = to_map_style_dataset(text_test)\n",
        "for i in range(nb_RNN):\n",
        "  data_train_experts.append(to_map_style_dataset(merged_train_set[i]))\n",
        "\n",
        "# Fonction servant à transformer nos données (textes) sous formes de nombres.\n",
        "def vectorize_batch(batch):\n",
        "    X, Y = list(zip(*batch))\n",
        "    X = [vocab(tokenizer(text)) for text in X]\n",
        "    X = [tokens+([0]* (max_words-len(tokens))) if len(tokens)<max_words else tokens[:max_words] for tokens in X] ## Bringing all samples to max_words length.\n",
        "\n",
        "    return torch.tensor(X, dtype=torch.int32), torch.tensor(Y, dtype = torch.long)\n",
        "\n",
        "# Fonction servant à transformer nos données (textes) sous formes de nombres (dans le cas de données de test, on a pas de labels)\n",
        "def vectorize_test_batch(batch):\n",
        "    X = list(batch)\n",
        "    X = [vocab(tokenizer(text)) for text in X]\n",
        "    X = [tokens+([0]* (max_words-len(tokens))) if len(tokens)<max_words else tokens[:max_words] for tokens in X] ## Bringing all samples to max_words length.\n",
        "\n",
        "    return torch.tensor(X, dtype=torch.int32)\n",
        "\n",
        "# Préparation des DataLoader pouvant être lu dans les modèles PyTorch\n",
        "train_loader_experts = []\n",
        "val_loader = DataLoader(data_val, batch_size=1024, collate_fn=vectorize_batch)\n",
        "test_loader = DataLoader(data_test, batch_size=1024, collate_fn=vectorize_test_batch)\n",
        "\n",
        "for i in range(nb_RNN):\n",
        "  train_loader_experts.append(DataLoader(data_train_experts[i], batch_size=1024, collate_fn=vectorize_batch, sampler=samplers[i]))"
      ]
    },
    {
      "cell_type": "markdown",
      "metadata": {
        "id": "_HDOXv9TEOG8"
      },
      "source": [
        "### Définition du RNN (GRU)"
      ]
    },
    {
      "cell_type": "code",
      "execution_count": null,
      "metadata": {
        "id": "qOy7TJHbEOG9"
      },
      "outputs": [],
      "source": [
        "# Architecture de notre GRU\n",
        "class RNNClassifier(nn.Module):\n",
        "    def __init__(self):\n",
        "        super(RNNClassifier, self).__init__()\n",
        "        self.embedding_layer = nn.Embedding(num_embeddings=len(vocab), embedding_dim=embed_len)\n",
        "        self.dropout = nn.Dropout(p_dropout)\n",
        "        self.rnn = nn.GRU(input_size=embed_len, hidden_size=hidden_dim, num_layers=n_layers, batch_first=True)\n",
        "        self.linear = nn.Linear(hidden_dim, len(target_classes))\n",
        "\n",
        "    def forward(self, X_batch):\n",
        "        embeddings = self.embedding_layer(X_batch).to(device)\n",
        "        output, hidden = self.rnn(self.dropout(embeddings))\n",
        "        return F.softmax(self.linear(output[:,-1]), dim=-1)"
      ]
    },
    {
      "cell_type": "markdown",
      "metadata": {
        "id": "LC8-YNWcEOG9"
      },
      "source": [
        "### Entraînement des RNN"
      ]
    },
    {
      "cell_type": "code",
      "execution_count": null,
      "metadata": {
        "id": "EnpWFX1qEOG9"
      },
      "outputs": [],
      "source": [
        "# Fonction d'évaluation des RNN\n",
        "def evaluate(model, loss_fn, val_loader):\n",
        "    with torch.no_grad():\n",
        "        Y_losses_all, Y_preds_all = [], []\n",
        "        for i in range(nb_RNN):\n",
        "          model[i].eval()\n",
        "          Y_true, Y_preds, losses = [],[],[]\n",
        "          for X, Y in val_loader:\n",
        "              Y_true.append(Y)\n",
        "              Y = torch.tensor(utils.to_one_hot(Y.numpy(), len(target_classes)))\n",
        "              X, Y = X.to(device), Y.to(device)\n",
        "              preds = model[i](X)\n",
        "              loss = loss_fn(preds, Y)\n",
        "              losses.append(loss.item())\n",
        "              Y_preds.append(preds)\n",
        "\n",
        "          Y_true = torch.cat(Y_true)\n",
        "          Y_preds = torch.cat(Y_preds)\n",
        "\n",
        "          Y_losses_all.append(torch.tensor(losses).mean())\n",
        "          Y_preds_all.append(Y_preds)\n",
        "\n",
        "          model[i].train()\n",
        "\n",
        "        Y_losses_all = torch.tensor(Y_losses_all).mean()\n",
        "        Y_preds_all = torch.mode(torch.stack(Y_preds_all, dim = -1).argmax(dim = -2))[0]\n",
        "\n",
        "        print(\"Valid Loss : {:.3f} | Valid Acc : {:.3f}\".format(Y_losses_all, accuracy_score(Y_true.detach().cpu().numpy(), Y_preds_all.detach().cpu().numpy())))\n",
        "\n",
        "# Fonction d'entraînement du RNN        \n",
        "def train(model, loss_fn, optimizer, train_loader, val_loader, epochs=10):\n",
        "    for epoch in range(1, epochs+1):\n",
        "      Y_losses_all, Y_acc_all = [], []\n",
        "      for i in range(nb_RNN):\n",
        "        Y_true, Y_preds, losses = [],[],[]\n",
        "        for X, Y in tqdm(train_loader[i]):\n",
        "            Y_true.append(Y)\n",
        "            Y = torch.tensor(utils.to_one_hot(Y.numpy(), len(target_classes)))\n",
        "            X, Y = X.to(device), Y.to(device)\n",
        "            optimizer[i].zero_grad()\n",
        "            preds = model[i](X)\n",
        "            loss = loss_fn(preds, Y)\n",
        "            losses.append(loss.item())\n",
        "            Y_preds.append(preds.argmax(dim = -1))\n",
        "            loss.backward()\n",
        "            optimizer[i].step()\n",
        "\n",
        "        Y_true = torch.cat(Y_true)\n",
        "        Y_preds = torch.cat(Y_preds)\n",
        "\n",
        "        Y_losses_all.append(torch.tensor(losses).mean())\n",
        "        Y_acc_all.append(accuracy_score(Y_true.detach().cpu().numpy(), Y_preds.detach().cpu().numpy()))\n",
        "\n",
        "      Y_losses_all = torch.tensor(Y_losses_all).mean()\n",
        "      Y_acc_all = torch.tensor(Y_acc_all).mean()\n",
        "            \n",
        "      print(\"Epoch {} | Train Loss (moy) : {:.3f} | Train acc (moy) : {:.3f}\".format(epoch, Y_losses_all, Y_acc_all))\n",
        "      evaluate(model, loss_fn, val_loader)"
      ]
    },
    {
      "cell_type": "code",
      "execution_count": null,
      "metadata": {
        "colab": {
          "base_uri": "https://localhost:8080/"
        },
        "id": "KflHzO4sEOG-",
        "outputId": "57942db2-9dec-4666-9417-26a724bca7d7"
      },
      "outputs": [],
      "source": [
        "loss_fn = nn.CrossEntropyLoss()\n",
        "rnn_classifiers, optimizers = [], []\n",
        "for i in range(nb_RNN):\n",
        "  rnn_classifiers.append(RNNClassifier().to(device))\n",
        "  optimizers.append(Adam(rnn_classifiers[i].parameters(), lr=learning_rate))\n",
        "\n",
        "train(rnn_classifiers, loss_fn, optimizers, train_loader_experts, val_loader, epochs)"
      ]
    },
    {
      "cell_type": "markdown",
      "metadata": {
        "id": "uM9hYKfHEOG-"
      },
      "source": [
        "### Prédictions sur l'ensemble de test"
      ]
    },
    {
      "cell_type": "code",
      "execution_count": null,
      "metadata": {
        "colab": {
          "base_uri": "https://localhost:8080/"
        },
        "id": "swTDpMYdEOG-",
        "outputId": "365409d1-5ba9-42bd-b69f-2a3b00a1958d"
      },
      "outputs": [],
      "source": [
        "def predict(model, loader):\n",
        "    Y_preds_experts = []\n",
        "    for i in range(nb_RNN):\n",
        "      Y_preds = []\n",
        "      for X in tqdm(loader):\n",
        "          X = X.to(device)\n",
        "          preds = model[i](X)\n",
        "          Y_preds.append(preds.detach().cpu())\n",
        "      gc.collect()\n",
        "      Y_preds = torch.cat(Y_preds)\n",
        "    Y_preds_experts.append(Y_preds)\n",
        "    return torch.mode(torch.stack(Y_preds_experts, dim = -1).argmax(dim = -2))[0].numpy()\n",
        "\n",
        "Y_preds = predict(rnn_classifiers, test_loader)"
      ]
    },
    {
      "cell_type": "markdown",
      "metadata": {
        "id": "KLRzU1rvEOG-"
      },
      "source": [
        "### Enregistrement des résultats"
      ]
    },
    {
      "cell_type": "code",
      "execution_count": null,
      "metadata": {
        "id": "aGTsXRzuEOG_"
      },
      "outputs": [],
      "source": [
        "utils.save_results(Y_preds, \"RNN_ensemble\")"
      ]
    }
  ],
  "metadata": {
    "accelerator": "GPU",
    "colab": {
      "provenance": []
    },
    "gpuClass": "standard",
    "kernelspec": {
      "display_name": "Python 3.10.8 64-bit (microsoft store)",
      "language": "python",
      "name": "python3"
    },
    "language_info": {
      "codemirror_mode": {
        "name": "ipython",
        "version": 3
      },
      "file_extension": ".py",
      "mimetype": "text/x-python",
      "name": "python",
      "nbconvert_exporter": "python",
      "pygments_lexer": "ipython3",
      "version": "3.10.9 (tags/v3.10.9:1dd9be6, Dec  6 2022, 20:01:21) [MSC v.1934 64 bit (AMD64)]"
    },
    "orig_nbformat": 4,
    "vscode": {
      "interpreter": {
        "hash": "c5fb5e78068286ad4ec2111baba118e0d35af9e9b40524b1c6e140f245c1a137"
      }
    }
  },
  "nbformat": 4,
  "nbformat_minor": 0
}
