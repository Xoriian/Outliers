{
  "cells": [
    {
      "cell_type": "code",
      "execution_count": null,
      "metadata": {
        "colab": {
          "base_uri": "https://localhost:8080/"
        },
        "id": "zpL79uuG7aS-",
        "outputId": "fd1a92af-7e8b-4b0a-9844-c358804a961f"
      },
      "outputs": [],
      "source": [
        "%pip install lime\n",
        "%pip install scikit-plot"
      ]
    },
    {
      "cell_type": "code",
      "execution_count": null,
      "metadata": {
        "colab": {
          "base_uri": "https://localhost:8080/"
        },
        "id": "BDfqbp2VEOG5",
        "outputId": "7a0c87bc-7635-4719-e7c3-a0cdcd8fd54c"
      },
      "outputs": [],
      "source": [
        "import utils_data as utils\n",
        "\n",
        "import torch\n",
        "import torch.nn as nn \n",
        "import torch.nn.functional as F\n",
        "from torchtext.data.utils import get_tokenizer\n",
        "from torchtext.vocab import build_vocab_from_iterator\n",
        "from torchtext.data.functional import to_map_style_dataset\n",
        "from torch.utils.data import DataLoader\n",
        "from torch.utils.data import WeightedRandomSampler\n",
        "from torch.optim import Adam\n",
        "\n",
        "from tqdm import tqdm\n",
        "from sklearn.metrics import accuracy_score, classification_report, confusion_matrix\n",
        "import scikitplot as skplt\n",
        "import matplotlib.pyplot as plt\n",
        "from lime import lime_text\n",
        "from collections import Counter\n",
        "import numpy as np\n",
        "import gc\n",
        "\n",
        "device = \"cuda\" if torch.cuda.is_available() else \"cpu\""
      ]
    },
    {
      "cell_type": "markdown",
      "metadata": {
        "id": "1AFaNzmXEOG6"
      },
      "source": [
        "### Importation du dataset"
      ]
    },
    {
      "cell_type": "code",
      "execution_count": null,
      "metadata": {
        "id": "5WcGG-cWEOG7"
      },
      "outputs": [],
      "source": [
        "# Récupération du contenu des différents datasets\n",
        "text_train, text_val = utils.get_data_split()\n",
        "label_train, label_val = utils.get_labels_split()\n",
        "text_test = utils.get_test()\n",
        "\n",
        "# Fusion des textes et des labels sous forme d'une liste de tuple\n",
        "merged_train = utils.merge_data_labels(text_train, label_train)\n",
        "merged_val = utils.merge_data_labels(text_val, label_val)"
      ]
    },
    {
      "cell_type": "code",
      "execution_count": null,
      "metadata": {
        "id": "8BIsCE_PJ9tf"
      },
      "outputs": [],
      "source": [
        "# Solution pour randomiser la séparation train / val\n",
        "text_all = utils.get_data()\n",
        "labels_all = utils.get_labels()\n",
        "limit = int(len(labels_all) * 0.8) + 1\n",
        "\n",
        "merged_all = utils.merge_data_labels(text_all, labels_all)\n",
        "np.random.shuffle(merged_all)\n",
        "\n",
        "merged_train, merged_val = merged_all[:limit], merged_all[limit:] # Séparation entre les données de train et de validation (80% - 20%)"
      ]
    },
    {
      "cell_type": "markdown",
      "metadata": {
        "id": "4GZJfwPWEOG7"
      },
      "source": [
        "Note importante : toute la suite est inspiré de : https://coderzcolumn.com/tutorials/artificial-intelligence/pytorch-rnn-for-text-classification-tasks, ainsi que du cours IFT 6135-A2022."
      ]
    },
    {
      "cell_type": "markdown",
      "metadata": {
        "id": "Ty6n7mr-EOG7"
      },
      "source": [
        "### Création de tokens à partir des phrases"
      ]
    },
    {
      "cell_type": "code",
      "execution_count": null,
      "metadata": {
        "id": "-H9b0_HSEOG7"
      },
      "outputs": [],
      "source": [
        "# On construit notre vocabulaire à partir des mots de la base de données\n",
        "tokenizer = get_tokenizer(\"basic_english\")\n",
        "\n",
        "def build_vocabulary(datasets):\n",
        "    for dataset in datasets:\n",
        "        for text in dataset:\n",
        "            yield tokenizer(text)\n",
        "\n",
        "vocab = build_vocab_from_iterator(build_vocabulary([text_all]), min_freq=1, specials=[\"<UNK>\"])\n",
        "vocab.set_default_index(vocab[\"<UNK>\"])"
      ]
    },
    {
      "cell_type": "markdown",
      "metadata": {
        "id": "BYUpa3YCL78g"
      },
      "source": [
        "### Hyperparamètres"
      ]
    },
    {
      "cell_type": "code",
      "execution_count": null,
      "metadata": {
        "id": "kWnaEDhHL78h"
      },
      "outputs": [],
      "source": [
        "target_classes = [\"negative\", \"neutral\", \"positive\"]\n",
        "max_words = 75\n",
        "embed_len = 75\n",
        "hidden_dim = 75\n",
        "n_layers = 5\n",
        "p_dropout = 0.3\n",
        "epochs = 15\n",
        "learning_rate = 0.001"
      ]
    },
    {
      "cell_type": "markdown",
      "metadata": {
        "id": "857_mKwVEOG8"
      },
      "source": [
        "### Préparation des données"
      ]
    },
    {
      "cell_type": "code",
      "execution_count": null,
      "metadata": {
        "id": "xv5tE0l-L78h"
      },
      "outputs": [],
      "source": [
        "# Comptage du nombre d'exemples par classe pour établir des poids et un \"sampler\" (sur l'ensemble des données d'entraînement choisies)\n",
        "label_train = np.asarray([list(e) for e in merged_train])[:, 1].astype(int)\n",
        "counter = Counter(label_train.tolist())\n",
        "\n",
        "class_weights = [len(label_train) / counter[i] for i in range(len(counter))]\n",
        "weights = [class_weights[label_train[i]] for i in range(len(label_train))]\n",
        "sampler = WeightedRandomSampler(torch.DoubleTensor(weights), len(label_train))"
      ]
    },
    {
      "cell_type": "code",
      "execution_count": null,
      "metadata": {
        "id": "BKZvzdKSEOG8"
      },
      "outputs": [],
      "source": [
        "# Préparation des données sous un format lisible par PyTorch\n",
        "data_train, data_val = to_map_style_dataset(merged_train), to_map_style_dataset(merged_val)\n",
        "data_test = to_map_style_dataset(text_test)\n",
        "\n",
        "# Fonction servant à transformer nos données (textes) sous formes de nombres.\n",
        "def vectorize_batch(batch):\n",
        "    X, Y = list(zip(*batch))\n",
        "    X = [vocab(tokenizer(text)) for text in X]\n",
        "    X = [tokens+([0]* (max_words-len(tokens))) if len(tokens)<max_words else tokens[:max_words] for tokens in X] ## Bringing all samples to max_words length.\n",
        "\n",
        "    return torch.tensor(X, dtype=torch.int32), torch.tensor(Y, dtype = torch.long)\n",
        "\n",
        "# Fonction servant à transformer nos données (textes) sous formes de nombres (dans le cas de données de test, on a pas de labels)\n",
        "def vectorize_test_batch(batch):\n",
        "    X = list(batch)\n",
        "    X = [vocab(tokenizer(text)) for text in X]\n",
        "    X = [tokens+([0]* (max_words-len(tokens))) if len(tokens)<max_words else tokens[:max_words] for tokens in X] ## Bringing all samples to max_words length.\n",
        "\n",
        "    return torch.tensor(X, dtype=torch.int32)\n",
        "\n",
        "# Préparation des DataLoader pouvant être lu dans les modèles PyTorch\n",
        "train_loader = DataLoader(data_train, batch_size=1024, collate_fn=vectorize_batch, sampler = sampler)\n",
        "val_loader = DataLoader(data_val, batch_size=1024, collate_fn=vectorize_batch)\n",
        "test_loader = DataLoader(data_test, batch_size=1024, collate_fn=vectorize_test_batch)"
      ]
    },
    {
      "cell_type": "markdown",
      "metadata": {
        "id": "_HDOXv9TEOG8"
      },
      "source": [
        "### Définition du RNN (GRU)"
      ]
    },
    {
      "cell_type": "code",
      "execution_count": null,
      "metadata": {
        "id": "qOy7TJHbEOG9"
      },
      "outputs": [],
      "source": [
        "# Architecture de notre GRU\n",
        "class RNNClassifier(nn.Module):\n",
        "    def __init__(self):\n",
        "        super(RNNClassifier, self).__init__()\n",
        "        self.embedding_layer = nn.Embedding(num_embeddings=len(vocab), embedding_dim=embed_len)\n",
        "        self.dropout = nn.Dropout(p_dropout)\n",
        "        self.rnn = nn.GRU(input_size=embed_len, hidden_size=hidden_dim, num_layers=n_layers, batch_first=True)\n",
        "        self.linear = nn.Linear(hidden_dim, len(target_classes))\n",
        "\n",
        "    def forward(self, X_batch):\n",
        "        embeddings = self.embedding_layer(X_batch).to(device)\n",
        "        output, hidden = self.rnn(self.dropout(embeddings))\n",
        "        return F.softmax(self.linear(output[:,-1]), dim=-1)"
      ]
    },
    {
      "cell_type": "markdown",
      "metadata": {
        "id": "LC8-YNWcEOG9"
      },
      "source": [
        "### Entraînement du RNN"
      ]
    },
    {
      "cell_type": "code",
      "execution_count": null,
      "metadata": {
        "id": "EnpWFX1qEOG9"
      },
      "outputs": [],
      "source": [
        "# Fonction d'évaluation du RNN\n",
        "def evaluate(model, loss_fn, val_loader):\n",
        "    model.eval()\n",
        "    with torch.no_grad():\n",
        "        Y_true, Y_preds, losses = [],[],[]\n",
        "        for X, Y in val_loader:\n",
        "            Y_true.append(Y)\n",
        "            X, Y = X.to(device), Y.to(device)\n",
        "            preds = model(X)\n",
        "            loss = loss_fn(preds, Y)\n",
        "            losses.append(loss.item())\n",
        "            Y_preds.append(preds.argmax(dim=-1))\n",
        "\n",
        "        Y_true = torch.cat(Y_true)\n",
        "        Y_preds = torch.cat(Y_preds)\n",
        "\n",
        "        print(\"Valid Loss : {:.3f} | Valid Acc : {:.3f}\".format(torch.tensor(losses).mean(), accuracy_score(Y_true.detach().cpu().numpy(), Y_preds.detach().cpu().numpy())))\n",
        "        \n",
        "        return torch.tensor(losses).mean(), accuracy_score(Y_true.detach().cpu().numpy(), Y_preds.detach().cpu().numpy())\n",
        "# Fonction d'entraînement du RNN\n",
        "def train(model, loss_fn, optimizer, train_loader, val_loader, epochs=10):\n",
        "    train_losses, val_losses, train_accs, val_accs = [], [], [], []\n",
        "    for i in range(1, epochs+1):\n",
        "        Y_true, Y_preds, losses = [],[],[]\n",
        "        for X, Y in tqdm(train_loader):\n",
        "            Y_true.append(Y)\n",
        "            X, Y = X.to(device), Y.to(device)\n",
        "            optimizer.zero_grad()\n",
        "            preds = model(X)\n",
        "            loss = loss_fn(preds, Y)\n",
        "            losses.append(loss.item())\n",
        "            Y_preds.append(preds.argmax(dim=-1))\n",
        "            loss.backward()\n",
        "            optimizer.step()\n",
        "\n",
        "        Y_true = torch.cat(Y_true)\n",
        "        Y_preds = torch.cat(Y_preds)\n",
        "            \n",
        "        print(\"Epoch {} | Train Loss : {:.3f} | Train acc : {:.3f}\".format(i, torch.tensor(losses).mean(), accuracy_score(Y_true.detach().cpu().numpy(), Y_preds.detach().cpu().numpy())))\n",
        "        train_losses.append(torch.tensor(losses).mean())\n",
        "        train_accs.append(accuracy_score(Y_true.detach().cpu().numpy(), Y_preds.detach().cpu().numpy()))\n",
        "        \n",
        "        val_loss, val_acc = evaluate(model, loss_fn, val_loader)\n",
        "        val_losses.append(val_loss)\n",
        "        val_accs.append(val_acc)\n",
        "\n",
        "        model.train()\n",
        "\n",
        "    return train_losses, val_losses, train_accs, val_accs"
      ]
    },
    {
      "cell_type": "code",
      "execution_count": null,
      "metadata": {
        "colab": {
          "base_uri": "https://localhost:8080/"
        },
        "id": "KflHzO4sEOG-",
        "outputId": "e7086cb7-0c63-4e80-9e87-a8ae113944b7"
      },
      "outputs": [],
      "source": [
        "# On déclare le modèle, la fonction de coût et l'optimiseur avant de lancer l'entraînement\n",
        "loss_fn = nn.CrossEntropyLoss()\n",
        "rnn_classifier = RNNClassifier().to(device)\n",
        "optimizer = Adam(rnn_classifier.parameters(), lr=learning_rate)\n",
        "\n",
        "train_loss, val_loss, train_acc, val_acc = train(rnn_classifier, loss_fn, optimizer, train_loader, val_loader, epochs)"
      ]
    },
    {
      "cell_type": "markdown",
      "metadata": {
        "id": "uM9hYKfHEOG-"
      },
      "source": [
        "### Prédictions sur l'ensemble de test"
      ]
    },
    {
      "cell_type": "code",
      "execution_count": null,
      "metadata": {
        "colab": {
          "base_uri": "https://localhost:8080/"
        },
        "id": "swTDpMYdEOG-",
        "outputId": "ad2ca5bf-5a8f-4648-98a0-a87544d0d765"
      },
      "outputs": [],
      "source": [
        "# Fonction de prédiction sur un ensemble de test\n",
        "def predict(model, loader):\n",
        "    Y_preds = []\n",
        "    for X in tqdm(loader):\n",
        "        X = X.to(device)\n",
        "        preds = model(X)\n",
        "        Y_preds.append(preds.detach().cpu())\n",
        "    gc.collect()\n",
        "    Y_preds = torch.cat(Y_preds)\n",
        "\n",
        "    return Y_preds.argmax(dim=-1).numpy()\n",
        "\n",
        "Y_preds = predict(rnn_classifier, test_loader)"
      ]
    },
    {
      "cell_type": "markdown",
      "metadata": {
        "id": "KLRzU1rvEOG-"
      },
      "source": [
        "### Enregistrement des résultats"
      ]
    },
    {
      "cell_type": "code",
      "execution_count": null,
      "metadata": {
        "id": "aGTsXRzuEOG_"
      },
      "outputs": [],
      "source": [
        "# Enregistrement des résultats dans le dossier \"data\"\n",
        "utils.save_results(Y_preds, \"RNN\")"
      ]
    },
    {
      "cell_type": "markdown",
      "metadata": {
        "id": "JSKKH6Pf5nA_"
      },
      "source": [
        "### Explicabilité : Matrice de confusion et LIME"
      ]
    },
    {
      "cell_type": "code",
      "execution_count": null,
      "metadata": {
        "colab": {
          "base_uri": "https://localhost:8080/"
        },
        "id": "NxwumCxzhwcE",
        "outputId": "16b9e1c0-33c7-4a2d-b533-22206f7244d0"
      },
      "outputs": [],
      "source": [
        "# On considère l'ensemble de validation et on fait des prédictions dessus\n",
        "val_loader_test = DataLoader(text_val, batch_size=1024, collate_fn=vectorize_test_batch)\n",
        "Y_preds_val = predict(rnn_classifier, val_loader_test)\n",
        "Y_actual_val = label_val[:, 1]"
      ]
    },
    {
      "cell_type": "code",
      "execution_count": null,
      "metadata": {
        "colab": {
          "base_uri": "https://localhost:8080/",
          "height": 343
        },
        "id": "frtSgPB96e5k",
        "outputId": "95f12dbb-f776-4899-876d-0fe5d6bc7684"
      },
      "outputs": [],
      "source": [
        "# Affichage de la matrice de confusion\n",
        "skplt.metrics.plot_confusion_matrix([target_classes[i] for i in Y_actual_val], [target_classes[i] for i in Y_preds_val],\n",
        "                                    normalize=True,\n",
        "                                    title=\"Confusion Matrix\",\n",
        "                                    cmap=\"Purples\",\n",
        "                                    hide_zeros=False,\n",
        "                                    figsize=(5,5)\n",
        "                                    );\n",
        "plt.xticks(rotation=90);"
      ]
    },
    {
      "cell_type": "code",
      "execution_count": null,
      "metadata": {
        "colab": {
          "base_uri": "https://localhost:8080/",
          "height": 331
        },
        "id": "-eftm4iB5snH",
        "outputId": "5ad03c19-d88b-411c-f872-53d0edf34822"
      },
      "outputs": [],
      "source": [
        "# On récupère les éléments utilisés pour l'explication par LIME\n",
        "X_test_text, Y_test = [], []\n",
        "for X, Y in merged_val:\n",
        "    X_test_text.append(X)\n",
        "    Y_test.append(Y)\n",
        "\n",
        "explainer = lime_text.LimeTextExplainer(class_names=target_classes, verbose=True)\n",
        "\n",
        "# Fonction permettant à LIME de faire ses prédictions\n",
        "def make_predictions_lime(X_batch_text):\n",
        "    X = [vocab(tokenizer(text)) for text in X_batch_text]\n",
        "    X = [tokens+([0]* (max_words-len(tokens))) if len(tokens)<max_words else tokens[:max_words] for tokens in X] ## Bringing all samples to max_words length.\n",
        "    preds = rnn_classifier(torch.tensor(X, dtype=torch.int32, device = device))\n",
        "    return preds.detach().cpu().numpy()\n",
        "\n",
        "# On prend un élément au hasard pour voir quelle prédiction on fait dessus\n",
        "idx = int(np.random.uniform(0, len(Y_test), 1))\n",
        "X = [vocab(tokenizer(text)) for text in X_test_text[idx:idx+1]]\n",
        "X = [tokens+([0]* (max_words-len(tokens))) if len(tokens)<max_words else tokens[:max_words] for tokens in X] ## Bringing all samples to max_words length.\n",
        "preds = rnn_classifier(torch.tensor(X, dtype=torch.int32, device = device))\n",
        "\n",
        "# On affiche l'explication de LIME\n",
        "explanation = explainer.explain_instance(X_test_text[idx], classifier_fn=make_predictions_lime,\n",
        "                                         labels=Y_test[idx:idx+1])              \n",
        "explanation.show_in_notebook()\n",
        "\n",
        "# On compare la prédiction avec la vrai classe\n",
        "print(\"Prediction : \", target_classes[preds.argmax()])\n",
        "print(\"Actual :     \", target_classes[Y_test[idx]])"
      ]
    }
  ],
  "metadata": {
    "accelerator": "GPU",
    "colab": {
      "provenance": []
    },
    "gpuClass": "standard",
    "kernelspec": {
      "display_name": "Python 3.10.8 64-bit (microsoft store)",
      "language": "python",
      "name": "python3"
    },
    "language_info": {
      "codemirror_mode": {
        "name": "ipython",
        "version": 3
      },
      "file_extension": ".py",
      "mimetype": "text/x-python",
      "name": "python",
      "nbconvert_exporter": "python",
      "pygments_lexer": "ipython3",
      "version": "3.10.9 (tags/v3.10.9:1dd9be6, Dec  6 2022, 20:01:21) [MSC v.1934 64 bit (AMD64)]"
    },
    "orig_nbformat": 4,
    "vscode": {
      "interpreter": {
        "hash": "c5fb5e78068286ad4ec2111baba118e0d35af9e9b40524b1c6e140f245c1a137"
      }
    }
  },
  "nbformat": 4,
  "nbformat_minor": 0
}
