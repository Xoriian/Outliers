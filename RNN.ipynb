{
  "cells": [
    {
      "cell_type": "code",
      "execution_count": null,
      "metadata": {
        "colab": {
          "base_uri": "https://localhost:8080/"
        },
        "id": "zpL79uuG7aS-",
        "outputId": "210e3f33-7bd4-4e70-9e40-79fbe23b711b"
      },
      "outputs": [],
      "source": [
        "%pip install lime"
      ]
    },
    {
      "cell_type": "code",
      "execution_count": null,
      "metadata": {
        "id": "BDfqbp2VEOG5"
      },
      "outputs": [],
      "source": [
        "import utils_data as utils\n",
        "import torch\n",
        "import torch.nn as nn \n",
        "import torch.nn.functional as F\n",
        "from torchtext.data.utils import get_tokenizer\n",
        "from torchtext.data import get_tokenizer\n",
        "from torchtext.vocab import build_vocab_from_iterator\n",
        "from torchtext.data.functional import to_map_style_dataset\n",
        "from torch.utils.data import DataLoader\n",
        "from torch.optim import Adam\n",
        "\n",
        "from tqdm import tqdm\n",
        "from sklearn.metrics import accuracy_score, classification_report, confusion_matrix\n",
        "import gc\n",
        "\n",
        "from lime import lime_text\n",
        "from numpy import random\n",
        "\n",
        "device = \"cuda\" if torch.cuda.is_available() else \"cpu\""
      ]
    },
    {
      "cell_type": "markdown",
      "metadata": {
        "id": "1AFaNzmXEOG6"
      },
      "source": [
        "### Importation du dataset"
      ]
    },
    {
      "cell_type": "code",
      "execution_count": null,
      "metadata": {
        "id": "5WcGG-cWEOG7"
      },
      "outputs": [],
      "source": [
        "text_train, text_val = utils.get_data_split()\n",
        "label_train, label_val = utils.get_labels_split()\n",
        "text_test = utils.get_test()\n",
        "\n",
        "merged_train = utils.merge_data_labels(text_train, label_train)\n",
        "merged_val = utils.merge_data_labels(text_val, label_val)"
      ]
    },
    {
      "cell_type": "code",
      "execution_count": null,
      "metadata": {},
      "outputs": [],
      "source": [
        "# Solution pour randomiser la séparation train / val\n",
        "text_all = utils.get_data()\n",
        "labels_all = utils.get_labels()\n",
        "limit = int(len(labels_all) * 0.8) + 1\n",
        "\n",
        "merged_all = utils.merge_data_labels(text_all, labels_all)\n",
        "random.shuffle(merged_all)\n",
        "\n",
        "merged_train, merged_val = merged_all[:limit], merged_all[limit:] # Séparation entre les données de train et de validation (80% - 20%)"
      ]
    },
    {
      "cell_type": "markdown",
      "metadata": {
        "id": "4GZJfwPWEOG7"
      },
      "source": [
        "Note importante : toute la suite est inspiré de : https://coderzcolumn.com/tutorials/artificial-intelligence/pytorch-rnn-for-text-classification-tasks, ainsi que du cours IFT 6135-A2022."
      ]
    },
    {
      "cell_type": "markdown",
      "metadata": {
        "id": "Ty6n7mr-EOG7"
      },
      "source": [
        "### Création de tokens à partir des phrases"
      ]
    },
    {
      "cell_type": "code",
      "execution_count": null,
      "metadata": {
        "colab": {
          "base_uri": "https://localhost:8080/"
        },
        "id": "-H9b0_HSEOG7",
        "outputId": "88e041f7-5046-4b41-eb02-34cb9464b16e"
      },
      "outputs": [],
      "source": [
        "tokenizer = get_tokenizer(\"basic_english\")\n",
        "\n",
        "def build_vocabulary(datasets):\n",
        "    for dataset in datasets:\n",
        "        for text in dataset:\n",
        "            yield tokenizer(text)\n",
        "\n",
        "vocab = build_vocab_from_iterator(build_vocabulary([text_train, text_val, text_test]), min_freq=1, specials=[\"<UNK>\"])\n",
        "vocab.set_default_index(vocab[\"<UNK>\"])\n",
        "len(vocab)"
      ]
    },
    {
      "cell_type": "markdown",
      "metadata": {
        "id": "857_mKwVEOG8"
      },
      "source": [
        "### Préparation des données"
      ]
    },
    {
      "cell_type": "code",
      "execution_count": null,
      "metadata": {
        "id": "BKZvzdKSEOG8"
      },
      "outputs": [],
      "source": [
        "data_train, data_val = to_map_style_dataset(merged_train), to_map_style_dataset(merged_val)\n",
        "data_test = to_map_style_dataset(text_test)\n",
        "\n",
        "target_classes = [\"negative\", \"neutral\", \"positive\"]\n",
        "max_words = 25\n",
        "\n",
        "def vectorize_batch(batch):\n",
        "    X, Y = list(zip(*batch))\n",
        "    X = [vocab(tokenizer(text)) for text in X]\n",
        "    X = [tokens+([0]* (max_words-len(tokens))) if len(tokens)<max_words else tokens[:max_words] for tokens in X] ## Bringing all samples to max_words length.\n",
        "\n",
        "    return torch.tensor(X, dtype=torch.int32), torch.tensor(Y, dtype = torch.long)\n",
        "\n",
        "\n",
        "def vectorize_test_batch(batch):\n",
        "    X = list(batch)\n",
        "    X = [vocab(tokenizer(text)) for text in X]\n",
        "    X = [tokens+([0]* (max_words-len(tokens))) if len(tokens)<max_words else tokens[:max_words] for tokens in X] ## Bringing all samples to max_words length.\n",
        "\n",
        "    return torch.tensor(X, dtype=torch.int32)\n",
        "\n",
        "train_loader = DataLoader(data_train, batch_size=1024, collate_fn=vectorize_batch, shuffle=True)\n",
        "val_loader = DataLoader(data_val, batch_size=1024, collate_fn=vectorize_batch)\n",
        "test_loader = DataLoader(data_test, batch_size=1024, collate_fn=vectorize_test_batch)\n"
      ]
    },
    {
      "cell_type": "markdown",
      "metadata": {
        "id": "_HDOXv9TEOG8"
      },
      "source": [
        "### Définition du RNN"
      ]
    },
    {
      "cell_type": "code",
      "execution_count": null,
      "metadata": {
        "id": "qOy7TJHbEOG9"
      },
      "outputs": [],
      "source": [
        "embed_len = 50\n",
        "hidden_dim = 50\n",
        "n_layers = 3\n",
        "p_dropout = 0.5\n",
        "\n",
        "class RNNClassifier(nn.Module):\n",
        "    def __init__(self):\n",
        "        super(RNNClassifier, self).__init__()\n",
        "        self.embedding_layer = nn.Embedding(num_embeddings=len(vocab), embedding_dim=embed_len)\n",
        "        self.rnn = nn.RNN(input_size=embed_len, hidden_size=hidden_dim, num_layers=n_layers, dropout=p_dropout, batch_first=True)\n",
        "        self.linear = nn.Linear(hidden_dim, len(target_classes))\n",
        "\n",
        "    def forward(self, X_batch):\n",
        "        embeddings = self.embedding_layer(X_batch).to(device)\n",
        "        output, hidden = self.rnn(embeddings)\n",
        "        return self.linear(output[:,-1])"
      ]
    },
    {
      "cell_type": "markdown",
      "metadata": {
        "id": "LC8-YNWcEOG9"
      },
      "source": [
        "### Entraînement du RNN"
      ]
    },
    {
      "cell_type": "code",
      "execution_count": null,
      "metadata": {
        "id": "EnpWFX1qEOG9"
      },
      "outputs": [],
      "source": [
        "def evaluate(model, loss_fn, val_loader):\n",
        "    model.eval()\n",
        "    with torch.no_grad():\n",
        "        Y_true, Y_preds, losses = [],[],[]\n",
        "        for X, Y in val_loader:\n",
        "            Y_true.append(Y)\n",
        "            Y = torch.tensor(utils.to_one_hot(Y.numpy(), len(target_classes)))\n",
        "            X, Y = X.to(device), Y.to(device)\n",
        "            preds = model(X)\n",
        "            loss = loss_fn(preds, Y)\n",
        "            losses.append(loss.item())\n",
        "            Y_preds.append(preds.argmax(dim=-1))\n",
        "\n",
        "        Y_true = torch.cat(Y_true)\n",
        "        Y_preds = torch.cat(Y_preds)\n",
        "\n",
        "        print(\"Valid Loss : {:.3f} | Valid Acc : {:.3f}\".format(torch.tensor(losses).mean(), accuracy_score(Y_true.detach().cpu().numpy(), Y_preds.detach().cpu().numpy())))\n",
        "\n",
        "\n",
        "def train(model, loss_fn, optimizer, train_loader, val_loader, epochs=10):\n",
        "    for i in range(1, epochs+1):\n",
        "        Y_true, Y_preds, losses = [],[],[]\n",
        "        for X, Y in tqdm(train_loader):\n",
        "            Y_true.append(Y)\n",
        "            Y = torch.tensor(utils.to_one_hot(Y.numpy(), len(target_classes)))\n",
        "            X, Y = X.to(device), Y.to(device)\n",
        "            optimizer.zero_grad()\n",
        "            preds = model(X)\n",
        "            loss = loss_fn(preds, Y)\n",
        "            losses.append(loss.item())\n",
        "            Y_preds.append(preds.argmax(dim=-1))\n",
        "            loss.backward()\n",
        "            optimizer.step()\n",
        "\n",
        "        Y_true = torch.cat(Y_true)\n",
        "        Y_preds = torch.cat(Y_preds)\n",
        "            \n",
        "        print(\"Epoch {} | Train Loss : {:.3f} | Train acc : {:.3f}\".format(i, torch.tensor(losses).mean(), accuracy_score(Y_true.detach().cpu().numpy(), Y_preds.detach().cpu().numpy())))\n",
        "        evaluate(model, loss_fn, val_loader)\n",
        "        model.train()"
      ]
    },
    {
      "cell_type": "code",
      "execution_count": null,
      "metadata": {
        "colab": {
          "base_uri": "https://localhost:8080/"
        },
        "id": "KflHzO4sEOG-",
        "outputId": "092006bb-3973-41f3-8861-f29cd3ae5ac4"
      },
      "outputs": [],
      "source": [
        "epochs = 8\n",
        "learning_rate = 0.001\n",
        "\n",
        "loss_fn = nn.CrossEntropyLoss()\n",
        "rnn_classifier = RNNClassifier().to(device)\n",
        "optimizer = Adam(rnn_classifier.parameters(), lr=learning_rate)\n",
        "\n",
        "train(rnn_classifier, loss_fn, optimizer, train_loader, val_loader, epochs)"
      ]
    },
    {
      "cell_type": "markdown",
      "metadata": {
        "id": "uM9hYKfHEOG-"
      },
      "source": [
        "### Prédictions sur l'ensemble de test"
      ]
    },
    {
      "cell_type": "code",
      "execution_count": null,
      "metadata": {
        "colab": {
          "base_uri": "https://localhost:8080/"
        },
        "id": "swTDpMYdEOG-",
        "outputId": "6d1e1c92-846b-45ae-8753-6f7531093759"
      },
      "outputs": [],
      "source": [
        "def predict(model, loader):\n",
        "    Y_preds = []\n",
        "    for X in tqdm(loader):\n",
        "        X = X.to(device)\n",
        "        preds = model(X)\n",
        "        Y_preds.append(preds.detach().cpu())\n",
        "    gc.collect()\n",
        "    Y_preds = torch.cat(Y_preds)\n",
        "\n",
        "    return F.softmax(Y_preds, dim=-1).argmax(dim=-1).numpy()\n",
        "\n",
        "Y_preds = predict(rnn_classifier, test_loader)"
      ]
    },
    {
      "cell_type": "markdown",
      "metadata": {
        "id": "KLRzU1rvEOG-"
      },
      "source": [
        "### Enregistrement des résultats"
      ]
    },
    {
      "cell_type": "code",
      "execution_count": null,
      "metadata": {
        "id": "aGTsXRzuEOG_"
      },
      "outputs": [],
      "source": [
        "utils.save_results(Y_preds, \"RNN\")"
      ]
    },
    {
      "cell_type": "markdown",
      "metadata": {
        "id": "JSKKH6Pf5nA_"
      },
      "source": [
        "### Explicabilité : Matrice de confusion et LIME"
      ]
    },
    {
      "cell_type": "code",
      "execution_count": null,
      "metadata": {
        "colab": {
          "base_uri": "https://localhost:8080/"
        },
        "id": "NxwumCxzhwcE",
        "outputId": "57fc3176-204b-4e89-a57b-6660da030368"
      },
      "outputs": [],
      "source": [
        "val_loader_test = DataLoader(text_val, batch_size=1024, collate_fn=vectorize_test_batch)\n",
        "Y_preds_val = predict(rnn_classifier, val_loader_test)\n",
        "Y_actual_val = label_val[:, 1]\n",
        "\n",
        "print(\"Test Accuracy : {}\".format(accuracy_score(Y_actual_val, Y_preds_val)))\n",
        "print(\"\\nClassification Report : \")\n",
        "print(classification_report(Y_actual_val, Y_preds_val, target_names=target_classes))\n",
        "print(\"\\nConfusion Matrix : \")\n",
        "print(confusion_matrix(Y_actual_val, Y_preds_val))"
      ]
    },
    {
      "cell_type": "code",
      "execution_count": null,
      "metadata": {
        "colab": {
          "base_uri": "https://localhost:8080/",
          "height": 496
        },
        "id": "-eftm4iB5snH",
        "outputId": "585e9cf3-b005-4fa6-eed0-4e998ba828d9"
      },
      "outputs": [],
      "source": [
        "X_test_text, Y_test = [], []\n",
        "for X, Y in merged_val:\n",
        "    X_test_text.append(X)\n",
        "    Y_test.append(Y)\n",
        "\n",
        "explainer = lime_text.LimeTextExplainer(class_names=target_classes, verbose=True)\n",
        "\n",
        "def make_predictions_lime(X_batch_text):\n",
        "    X = [vocab(tokenizer(text)) for text in X_batch_text]\n",
        "    X = [tokens+([0]* (max_words-len(tokens))) if len(tokens)<max_words else tokens[:max_words] for tokens in X] ## Bringing all samples to max_words length.\n",
        "    logits = rnn_classifier(torch.tensor(X, dtype=torch.int32, device = device))\n",
        "    preds = F.softmax(logits, dim=-1)\n",
        "    return preds.detach().cpu().numpy()\n",
        "\n",
        "idx = int(random.uniform(0, len(Y_test), 1))\n",
        "X = [vocab(tokenizer(text)) for text in X_test_text[idx:idx+1]]\n",
        "X = [tokens+([0]* (max_words-len(tokens))) if len(tokens)<max_words else tokens[:max_words] for tokens in X] ## Bringing all samples to max_words length.\n",
        "preds = rnn_classifier(torch.tensor(X, dtype=torch.int32, device = device))\n",
        "preds = F.softmax(preds, dim=-1)\n",
        "\n",
        "explanation = explainer.explain_instance(X_test_text[idx], classifier_fn=make_predictions_lime,\n",
        "                                         labels=Y_test[idx:idx+1])\n",
        "explanation.show_in_notebook()\n",
        "print(\"Prediction : \", target_classes[preds.argmax()])\n",
        "print(\"Actual :     \", target_classes[Y_test[idx]])"
      ]
    }
  ],
  "metadata": {
    "accelerator": "GPU",
    "colab": {
      "provenance": []
    },
    "gpuClass": "standard",
    "kernelspec": {
      "display_name": "Python 3.10.8 64-bit (microsoft store)",
      "language": "python",
      "name": "python3"
    },
    "language_info": {
      "codemirror_mode": {
        "name": "ipython",
        "version": 3
      },
      "file_extension": ".py",
      "mimetype": "text/x-python",
      "name": "python",
      "nbconvert_exporter": "python",
      "pygments_lexer": "ipython3",
      "version": "3.10.8"
    },
    "orig_nbformat": 4,
    "vscode": {
      "interpreter": {
        "hash": "c5fb5e78068286ad4ec2111baba118e0d35af9e9b40524b1c6e140f245c1a137"
      }
    }
  },
  "nbformat": 4,
  "nbformat_minor": 0
}
